{
  "nbformat": 4,
  "nbformat_minor": 0,
  "metadata": {
    "colab": {
      "provenance": [],
      "include_colab_link": true
    },
    "kernelspec": {
      "name": "python3",
      "display_name": "Python 3"
    },
    "language_info": {
      "name": "python"
    }
  },
  "cells": [
    {
      "cell_type": "markdown",
      "metadata": {
        "id": "view-in-github",
        "colab_type": "text"
      },
      "source": [
        "<a href=\"https://colab.research.google.com/github/ebaenamar/aiart/blob/main/Finetune_SDXL_Replicate.ipynb\" target=\"_parent\"><img src=\"https://colab.research.google.com/assets/colab-badge.svg\" alt=\"Open In Colab\"/></a>"
      ]
    },
    {
      "cell_type": "markdown",
      "source": [
        "# How to use\n",
        "\n",
        "To run and modify the notebook, in the top left go to file -> make a copy in Drive.\n",
        "\n",
        "Useful shortcuts:\n",
        "- Shift + enter: runs a cell\n",
        "\n",
        "Additional Resources:\n",
        "\n",
        "More in depth fine tuning explanation [here](https://civitai.com/articles/4/make-your-own-loras-easy-and-free)"
      ],
      "metadata": {
        "id": "StqF3MkdMx7x"
      }
    },
    {
      "cell_type": "code",
      "source": [
        "!pip install replicate"
      ],
      "metadata": {
        "id": "pdPQvzUKAg1I",
        "outputId": "4983368d-adfb-4a75-c17d-e3ebf2a842e9",
        "colab": {
          "base_uri": "https://localhost:8080/"
        }
      },
      "execution_count": null,
      "outputs": [
        {
          "output_type": "stream",
          "name": "stdout",
          "text": [
            "Requirement already satisfied: replicate in /usr/local/lib/python3.10/dist-packages (1.0.4)\n",
            "Requirement already satisfied: httpx<1,>=0.21.0 in /usr/local/lib/python3.10/dist-packages (from replicate) (0.28.1)\n",
            "Requirement already satisfied: packaging in /usr/local/lib/python3.10/dist-packages (from replicate) (24.2)\n",
            "Requirement already satisfied: pydantic>1.10.7 in /usr/local/lib/python3.10/dist-packages (from replicate) (2.10.3)\n",
            "Requirement already satisfied: typing_extensions>=4.5.0 in /usr/local/lib/python3.10/dist-packages (from replicate) (4.12.2)\n",
            "Requirement already satisfied: anyio in /usr/local/lib/python3.10/dist-packages (from httpx<1,>=0.21.0->replicate) (3.7.1)\n",
            "Requirement already satisfied: certifi in /usr/local/lib/python3.10/dist-packages (from httpx<1,>=0.21.0->replicate) (2024.12.14)\n",
            "Requirement already satisfied: httpcore==1.* in /usr/local/lib/python3.10/dist-packages (from httpx<1,>=0.21.0->replicate) (1.0.7)\n",
            "Requirement already satisfied: idna in /usr/local/lib/python3.10/dist-packages (from httpx<1,>=0.21.0->replicate) (3.10)\n",
            "Requirement already satisfied: h11<0.15,>=0.13 in /usr/local/lib/python3.10/dist-packages (from httpcore==1.*->httpx<1,>=0.21.0->replicate) (0.14.0)\n",
            "Requirement already satisfied: annotated-types>=0.6.0 in /usr/local/lib/python3.10/dist-packages (from pydantic>1.10.7->replicate) (0.7.0)\n",
            "Requirement already satisfied: pydantic-core==2.27.1 in /usr/local/lib/python3.10/dist-packages (from pydantic>1.10.7->replicate) (2.27.1)\n",
            "Requirement already satisfied: sniffio>=1.1 in /usr/local/lib/python3.10/dist-packages (from anyio->httpx<1,>=0.21.0->replicate) (1.3.1)\n",
            "Requirement already satisfied: exceptiongroup in /usr/local/lib/python3.10/dist-packages (from anyio->httpx<1,>=0.21.0->replicate) (1.2.2)\n"
          ]
        }
      ]
    },
    {
      "cell_type": "markdown",
      "source": [
        "Test Run"
      ],
      "metadata": {
        "id": "oanPSyr530oi"
      }
    },
    {
      "cell_type": "markdown",
      "source": [
        "# Finetuning a text to image model\n",
        "\n",
        "The first and most important thing to care about when training a custom image generation model, is the data. If you have a bad dataset that you are trianing on, it does not matter what model or how much compute you throw at the problem, your output model will still not perform the way that you want it to.\n",
        "\n",
        "For image generation, we dont actually need a lot of data to add a new concept or style to the model, as little as 5 images will do, although more is always better, usually datasets are between 20-1000 miages. When selecting images here's what you need to keep in mind:\n",
        "\n",
        "- Avoid low quality images, i.e. blurry or low (<256 px) resolution\n",
        "- Avoid images with weird aspect ratios (anything more than 2:1, ie 1024x512px)\n",
        "- Dont worry about getting 4k or super high resolution images, they will be downscaled to ~1024px per side when training\n",
        "\n",
        "When training a model, you will typically either be training the model to understand a person, or new style. Because of this, you will usually include a trigger word that lets the model know you are trying to evoke that concept. That way the model will keep its previous understanding of concepts while also having a new one added to it. Because we dont want to overwrite existing concepts, the trigger word will be a specific person's name, or a \"custom\" word, i.e. \"Andrew Mead\" or \"tr1gg3r w0rd\"."
      ],
      "metadata": {
        "id": "W6R7hAOH0ZlG"
      }
    },
    {
      "cell_type": "code",
      "execution_count": null,
      "metadata": {
        "id": "jf0Pnm7hELFB"
      },
      "outputs": [],
      "source": [
        "#@title Setup Replicate\n",
        "\n",
        "#@markdown To get your Replicate API key, go to [Replicate](https://replicate.com/signin?next=/docs) and register. You then find your api key on the [API tokens page](https://replicate.com/account/api-tokens), which you can then paste here.\n",
        "\n",
        "import os\n",
        "import replicate\n",
        "# YOUR REPLICATE API KEY\n",
        "replicate_api_key = \"\" #@param {type: 'string'}\n",
        "\n",
        "os.environ[\"REPLICATE_API_TOKEN\"] = replicate_api_key"
      ]
    },
    {
      "cell_type": "markdown",
      "source": [
        "Test Run"
      ],
      "metadata": {
        "id": "-fZ2MKZJ35e8"
      }
    },
    {
      "cell_type": "code",
      "source": [
        "output = replicate.run(\n",
        "    \"stability-ai/sdxl:7762fd07cf82c948538e41f63f77d685e02b063e37e496e96eefd46c929f9bdc\",\n",
        "    input={\n",
        "        \"width\": 768,\n",
        "        \"height\": 768,\n",
        "        \"prompt\": \"An astronaut riding a rainbow unicorn, cinematic, dramatic\",\n",
        "        \"refine\": \"expert_ensemble_refiner\",\n",
        "        \"scheduler\": \"K_EULER\",\n",
        "        \"lora_scale\": 0.6,\n",
        "        \"num_outputs\": 1,\n",
        "        \"guidance_scale\": 7.5,\n",
        "        \"apply_watermark\": False,\n",
        "        \"high_noise_frac\": 0.8,\n",
        "        \"negative_prompt\": \"\",\n",
        "        \"prompt_strength\": 0.8,\n",
        "        \"num_inference_steps\": 25\n",
        "    }\n",
        ")\n",
        "print(output)"
      ],
      "metadata": {
        "id": "ES1DGHT_36xF",
        "outputId": "d3ea9358-4958-4c73-fb20-ab46a374540e",
        "colab": {
          "base_uri": "https://localhost:8080/",
          "height": 216
        }
      },
      "execution_count": null,
      "outputs": [
        {
          "output_type": "error",
          "ename": "NameError",
          "evalue": "name 'replicate' is not defined",
          "traceback": [
            "\u001b[0;31m---------------------------------------------------------------------------\u001b[0m",
            "\u001b[0;31mNameError\u001b[0m                                 Traceback (most recent call last)",
            "\u001b[0;32m<ipython-input-5-6386c790b063>\u001b[0m in \u001b[0;36m<cell line: 1>\u001b[0;34m()\u001b[0m\n\u001b[0;32m----> 1\u001b[0;31m output = replicate.run(\n\u001b[0m\u001b[1;32m      2\u001b[0m     \u001b[0;34m\"stability-ai/sdxl:7762fd07cf82c948538e41f63f77d685e02b063e37e496e96eefd46c929f9bdc\"\u001b[0m\u001b[0;34m,\u001b[0m\u001b[0;34m\u001b[0m\u001b[0;34m\u001b[0m\u001b[0m\n\u001b[1;32m      3\u001b[0m     input={\n\u001b[1;32m      4\u001b[0m         \u001b[0;34m\"width\"\u001b[0m\u001b[0;34m:\u001b[0m \u001b[0;36m768\u001b[0m\u001b[0;34m,\u001b[0m\u001b[0;34m\u001b[0m\u001b[0;34m\u001b[0m\u001b[0m\n\u001b[1;32m      5\u001b[0m         \u001b[0;34m\"height\"\u001b[0m\u001b[0;34m:\u001b[0m \u001b[0;36m768\u001b[0m\u001b[0;34m,\u001b[0m\u001b[0;34m\u001b[0m\u001b[0;34m\u001b[0m\u001b[0m\n",
            "\u001b[0;31mNameError\u001b[0m: name 'replicate' is not defined"
          ]
        }
      ]
    },
    {
      "cell_type": "code",
      "source": [
        "#@title Create the model repository\n",
        "\n",
        "#@markdown Here we are setting up the repository in replicate where the model will go once we have trained it\n",
        "\n",
        "import replicate\n",
        "from replicate.exceptions import ReplicateError\n",
        "\n",
        "#@markdown You can see your username on replicate in the top left corner.\n",
        "replicate_username = \"\" #@param {type: 'string'}\n",
        "#@markdown Name of your fintuned model\n",
        "finetuned_mode_name = \"\" #@param {type: 'string'}\n",
        "\n",
        "try:\n",
        "  model = replicate.models.create(\n",
        "      owner=replicate_username,\n",
        "      name=finetuned_mode_name,\n",
        "      visibility=\"public\",  # or \"private\" if you prefer\n",
        "      hardware=\"gpu-t4\",  # Replicate will override this for fine-tuned models\n",
        "      description=\"A fine-tuned sdxl model\"\n",
        "  )\n",
        "  print(f\"Model created: {model.name}\")\n",
        "except ReplicateError as e:\n",
        "  if \"already exists\" in e.detail:\n",
        "    print(\"Model already exists, loading it.\")\n",
        "    model = replicate.models.get(f\"{replicate_username}/{finetuned_mode_name}\")\n",
        "  else:\n",
        "    raise e\n",
        "\n",
        "print(f\"Model URL: https://replicate.com/{model.owner}/{model.name}\")"
      ],
      "metadata": {
        "id": "3LukzVaWPRFy",
        "cellView": "form"
      },
      "execution_count": null,
      "outputs": []
    },
    {
      "cell_type": "code",
      "source": [
        "#@title Train the model\n",
        "\n",
        "#@markdown The dataset needs to be a zip folder, with\n",
        "dataset_url = \"\" #@param {type: 'string'}\n",
        "trigger_word = \"\" #@param {type: 'string'}\n",
        "steps = None #@param {type: 'number'}\n",
        "\n",
        "training = replicate.trainings.create(\n",
        "    version=\"stability-ai/sdxl:7762fd07cf82c948538e41f63f77d685e02b063e37e496e96eefd46c929f9bdc\",\n",
        "    input={\n",
        "        \"input_images\": dataset_url,\n",
        "        \"steps\": steps,\n",
        "        \"token_string\": trigger_word,\n",
        "        \"is_lora\": \"true\"\n",
        "    },\n",
        "    destination=f\"{model.owner}/{model.name}\",\n",
        ")\n",
        "\n",
        "print(f\"Training started: {training.status}\")\n",
        "print(f\"Training URL: https://replicate.com/p/{training.id}\")"
      ],
      "metadata": {
        "id": "ZwloUZKKPSKK"
      },
      "execution_count": null,
      "outputs": []
    },
    {
      "cell_type": "code",
      "source": [
        "#@title Use your model\n",
        "prompt = \"\" #@param {type: 'string'}\n",
        "\n",
        "latest_version = model.versions.list()[0]\n",
        "\n",
        "output = replicate.predictions.create(\n",
        "    version=latest_version,\n",
        "    input={\"prompt\": prompt}\n",
        ")\n",
        "\n",
        "print(output)"
      ],
      "metadata": {
        "id": "dw8XLZCIx8MO"
      },
      "execution_count": null,
      "outputs": []
    },
    {
      "cell_type": "code",
      "source": [
        "output"
      ],
      "metadata": {
        "id": "TQS9EchBWFr_"
      },
      "execution_count": null,
      "outputs": []
    },
    {
      "cell_type": "code",
      "source": [],
      "metadata": {
        "id": "vp_7uTZujBXc"
      },
      "execution_count": null,
      "outputs": []
    }
  ]
}